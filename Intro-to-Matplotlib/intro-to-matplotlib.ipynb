{
 "cells": [
  {
   "cell_type": "markdown",
   "id": "693a4fe0",
   "metadata": {},
   "source": [
    "# Intro to Matplotlib"
   ]
  },
  {
   "cell_type": "code",
   "execution_count": 1,
   "id": "f48703ec",
   "metadata": {},
   "outputs": [],
   "source": [
    "import matplotlib.pyplot as plt\n",
    "import pandas as pd\n",
    "import numpy as np"
   ]
  },
  {
   "cell_type": "code",
   "execution_count": null,
   "id": "851c5259",
   "metadata": {},
   "outputs": [],
   "source": [
    "plt.plot([1,2,3,4]);"
   ]
  },
  {
   "cell_type": "code",
   "execution_count": null,
   "id": "01391ba8",
   "metadata": {},
   "outputs": [],
   "source": [
    "x = [1, 2, 3, 4]\n",
    "y = [11, 22, 33, 44]\n",
    "plt.plot(x,y);"
   ]
  },
  {
   "cell_type": "code",
   "execution_count": null,
   "id": "47f777f6",
   "metadata": {},
   "outputs": [],
   "source": [
    "# 1st method\n",
    "fig = plt.figure() #creates a figure\n",
    "ax = fig.add_subplot() # adds some axes\n",
    "ax.plot(x,y)\n",
    "plt.show()"
   ]
  },
  {
   "cell_type": "code",
   "execution_count": null,
   "id": "06b02ac3",
   "metadata": {},
   "outputs": [],
   "source": [
    "# 2nd method\n",
    "fig = plt.figure() # creates a figure\n",
    "ax = fig.add_axes([1,1,1,1])\n",
    "ax.plot(x,y) ## add some data\n",
    "plt.show()"
   ]
  },
  {
   "cell_type": "code",
   "execution_count": null,
   "id": "aa09405c",
   "metadata": {},
   "outputs": [],
   "source": [
    "# 3rd method\n",
    "fig, ax = plt.subplots()\n",
    "ax.plot(x,y); ## add some data"
   ]
  },
  {
   "cell_type": "markdown",
   "id": "c67f12ea",
   "metadata": {},
   "source": [
    "## Matplotlib example workflow"
   ]
  },
  {
   "cell_type": "code",
   "execution_count": null,
   "id": "6e2aae71",
   "metadata": {},
   "outputs": [],
   "source": [
    "# import matplotlib\n",
    "import matplotlib.pyplot as plt\n",
    "\n",
    "# Prepare data\n",
    "x = [1, 2, 3, 4]\n",
    "y = [11, 22, 33, 44]\n",
    "\n",
    "# Setup plot\n",
    "fig, ax = plt.subplots(figsize=(10, 10))\n",
    "\n",
    "# Plot data\n",
    "ax.plot(x, y)\n",
    "\n",
    "# Customize plot\n",
    "ax.set(title=\"Simple Plot\",\n",
    "      xlabel=\"x-axis\",\n",
    "      ylabel=\"y-axis\")\n",
    "\n",
    "# Save and show figure\n",
    "fig.savefig(\"images/sample-plot.png\")"
   ]
  },
  {
   "cell_type": "markdown",
   "id": "7c1bfcd4",
   "metadata": {},
   "source": [
    "## Making figures with NumPy arrays\n",
    "* Line plot\n",
    "* Scatter plot\n",
    "* Bar plot\n",
    "* Histogram\n",
    "* Subplots"
   ]
  },
  {
   "cell_type": "code",
   "execution_count": null,
   "id": "7463ba12",
   "metadata": {},
   "outputs": [],
   "source": [
    "import numpy as np\n",
    "\n",
    "# Create some data\n",
    "x = np.linspace(0,10,100)\n",
    "x[:10]"
   ]
  },
  {
   "cell_type": "code",
   "execution_count": null,
   "id": "18e2e5b9",
   "metadata": {},
   "outputs": [],
   "source": [
    "# Plot the data and create a line plot\n",
    "fig, ax = plt.subplots()\n",
    "ax.plot(x, x**2);"
   ]
  },
  {
   "cell_type": "code",
   "execution_count": null,
   "id": "df1ed21b",
   "metadata": {
    "scrolled": true
   },
   "outputs": [],
   "source": [
    "# Scatter plot\n",
    "fig, ax = plt.subplots()\n",
    "ax.scatter(x, np.exp(x));"
   ]
  },
  {
   "cell_type": "code",
   "execution_count": null,
   "id": "83e6c653",
   "metadata": {
    "scrolled": true
   },
   "outputs": [],
   "source": [
    "# (Vertical) Bar plot from dictionary\n",
    "player_ratings = {\"Messi\":94,\n",
    "                 \"Ronaldo\":92,\n",
    "                 \"Neymar\":91,\n",
    "                 \"Lingard\":70}\n",
    "fig, ax = plt.subplots()\n",
    "ax.bar(player_ratings.keys(), player_ratings.values())\n",
    "ax.set(title=\"Fifa Rating\",\n",
    "      ylabel=\"Rating\");"
   ]
  },
  {
   "cell_type": "code",
   "execution_count": null,
   "id": "9a400527",
   "metadata": {},
   "outputs": [],
   "source": [
    "# Horizontal bar\n",
    "fig, ax = plt.subplots()\n",
    "ax.barh(list(player_ratings.keys()), list(player_ratings.values()))\n",
    "ax.set(title=\"Fifa Rating\",\n",
    "      ylabel=\"Rating\");"
   ]
  },
  {
   "cell_type": "code",
   "execution_count": null,
   "id": "7e674218",
   "metadata": {},
   "outputs": [],
   "source": [
    "# Histogram\n",
    "x = np.random.randn(1000)\n",
    "fig, ax = plt.subplots()\n",
    "ax.hist(x);"
   ]
  },
  {
   "cell_type": "markdown",
   "id": "ea8129e4",
   "metadata": {},
   "source": [
    "## Two ways of subplots"
   ]
  },
  {
   "cell_type": "code",
   "execution_count": null,
   "id": "7845aa6c",
   "metadata": {
    "scrolled": false
   },
   "outputs": [],
   "source": [
    "# Way 1\n",
    "fig,((ax1, ax2), (ax3, ax4)) = plt.subplots(nrows = 2,\n",
    "                                           ncols = 2,\n",
    "                                           figsize=(10,5))\n",
    "# Plotting to different axis\n",
    "ax1.plot(x,x/2);\n",
    "ax2.scatter(np.random.random(10), np.random.random(10));\n",
    "ax3.bar(player_ratings.keys(), player_ratings.values());\n",
    "ax4.hist(np.random.randn(1000));"
   ]
  },
  {
   "cell_type": "code",
   "execution_count": null,
   "id": "0cc57ee0",
   "metadata": {},
   "outputs": [],
   "source": [
    "# Way 2\n",
    "fig, ax = plt.subplots(nrows=2,\n",
    "                      ncols=2,\n",
    "                      figsize=(10,5))\n",
    "# Plotting to different axis\n",
    "ax[0, 0].plot(x, x/2);\n",
    "ax[0, 1].scatter(np.random.random(10), np.random.random(10));\n",
    "ax[1, 0].bar(player_ratings.keys(), player_ratings.values());\n",
    "ax[1, 1].hist(np.random.randn(1000));"
   ]
  },
  {
   "cell_type": "markdown",
   "id": "27776e42",
   "metadata": {},
   "source": [
    "## Plotting from pandas DataFrames"
   ]
  },
  {
   "cell_type": "code",
   "execution_count": null,
   "id": "31ee9563",
   "metadata": {},
   "outputs": [],
   "source": [
    "import pandas as pd"
   ]
  },
  {
   "cell_type": "code",
   "execution_count": null,
   "id": "ecea5623",
   "metadata": {},
   "outputs": [],
   "source": [
    "ts = pd.Series(np.random.randn(1000), index=pd.date_range(\"1/1/2021\", periods=1000))\n",
    "ts = ts.cumsum()\n",
    "ts.plot();"
   ]
  },
  {
   "cell_type": "code",
   "execution_count": null,
   "id": "58dcca27",
   "metadata": {},
   "outputs": [],
   "source": [
    "# Make a dataframe\n",
    "\n",
    "car_sales = pd.read_csv(\"car-sales.csv\")\n",
    "car_sales[\"Price\"] = car_sales[\"Price\"].replace('\\D', '', regex=True)\n",
    "car_sales"
   ]
  },
  {
   "cell_type": "code",
   "execution_count": null,
   "id": "7a441d39",
   "metadata": {},
   "outputs": [],
   "source": [
    "# Remove last two zeros\n",
    "car_sales[\"Price\"] = car_sales[\"Price\"].str[:-2]\n",
    "car_sales"
   ]
  },
  {
   "cell_type": "code",
   "execution_count": null,
   "id": "f21b8c13",
   "metadata": {},
   "outputs": [],
   "source": [
    "car_sales[\"Sale Date\"] = pd.date_range(\"1/1/2021\", periods=len(car_sales))\n",
    "car_sales"
   ]
  },
  {
   "cell_type": "code",
   "execution_count": null,
   "id": "97523fbb",
   "metadata": {},
   "outputs": [],
   "source": [
    "# Cumulative sum\n",
    "car_sales[\"Price\"] = car_sales[\"Price\"].astype(int)\n",
    "car_sales[\"Total Sales\"] = car_sales[\"Price\"].cumsum()\n",
    "car_sales"
   ]
  },
  {
   "cell_type": "code",
   "execution_count": null,
   "id": "44c0b19c",
   "metadata": {},
   "outputs": [],
   "source": [
    "# Plot total sales\n",
    "car_sales.plot(x=\"Sale Date\", y=\"Total Sales\");"
   ]
  },
  {
   "cell_type": "code",
   "execution_count": null,
   "id": "e8e1afd9",
   "metadata": {},
   "outputs": [],
   "source": [
    "car_sales.plot(x=\"Odometer (KM)\", y=\"Price\", kind=\"scatter\");"
   ]
  },
  {
   "cell_type": "code",
   "execution_count": null,
   "id": "0072c131",
   "metadata": {},
   "outputs": [],
   "source": [
    "# Plotting to bar graph\n",
    "\n",
    "# Random data\n",
    "x = np.random.rand(10,4)\n",
    "x"
   ]
  },
  {
   "cell_type": "code",
   "execution_count": null,
   "id": "ade987af",
   "metadata": {},
   "outputs": [],
   "source": [
    "# Convert to dataframe\n",
    "\n",
    "df = pd.DataFrame(x, columns=['a', 'b', 'c', 'd'])\n",
    "df"
   ]
  },
  {
   "cell_type": "code",
   "execution_count": null,
   "id": "2930a4c4",
   "metadata": {},
   "outputs": [],
   "source": [
    "df.plot.bar();"
   ]
  },
  {
   "cell_type": "code",
   "execution_count": null,
   "id": "a53162f2",
   "metadata": {},
   "outputs": [],
   "source": [
    "car_sales"
   ]
  },
  {
   "cell_type": "code",
   "execution_count": null,
   "id": "c0f51865",
   "metadata": {},
   "outputs": [],
   "source": [
    "# Bar\n",
    "car_sales.plot(x=\"Make\", y=\"Odometer (KM)\", kind=\"bar\");"
   ]
  },
  {
   "cell_type": "code",
   "execution_count": null,
   "id": "3ef86272",
   "metadata": {},
   "outputs": [],
   "source": [
    "# Histogram\n",
    "car_sales[\"Odometer (KM)\"].plot.hist();"
   ]
  },
  {
   "cell_type": "code",
   "execution_count": null,
   "id": "e4adeddf",
   "metadata": {},
   "outputs": [],
   "source": [
    "# Different dataset\n",
    "heart_disease = pd.read_csv(\"heart-disease.csv\")\n",
    "heart_disease.head()"
   ]
  },
  {
   "cell_type": "code",
   "execution_count": null,
   "id": "801a5e21",
   "metadata": {},
   "outputs": [],
   "source": [
    "# Histogram of age\n",
    "heart_disease[\"age\"].plot.hist(bins=70);"
   ]
  },
  {
   "cell_type": "code",
   "execution_count": null,
   "id": "268a23fd",
   "metadata": {},
   "outputs": [],
   "source": [
    "# Histogram of every column\n",
    "heart_disease.plot.hist(figsize=(10,30),subplots=True);"
   ]
  },
  {
   "cell_type": "markdown",
   "id": "5bf99f4f",
   "metadata": {},
   "source": [
    "## pyplot vs matplotlib OO method\n",
    "* Quick -> pyplot\n",
    "* Advanced -> OO"
   ]
  },
  {
   "cell_type": "code",
   "execution_count": null,
   "id": "7c37dd3e",
   "metadata": {},
   "outputs": [],
   "source": [
    "over_50 = heart_disease[heart_disease[\"age\"]>50]\n",
    "over_50"
   ]
  },
  {
   "cell_type": "code",
   "execution_count": null,
   "id": "ae6d1f4b",
   "metadata": {},
   "outputs": [],
   "source": [
    "# pyplot method\n",
    "over_50.plot(kind='scatter',\n",
    "            x='age',\n",
    "            y='chol',\n",
    "            c='target');"
   ]
  },
  {
   "cell_type": "code",
   "execution_count": null,
   "id": "92cac206",
   "metadata": {},
   "outputs": [],
   "source": [
    "## OO method\n",
    "fig, ax = plt.subplots(figsize=(10,6))\n",
    "over_50.plot(kind='scatter',\n",
    "            x='age',\n",
    "            y='chol',\n",
    "            c='target',\n",
    "            ax=ax);\n",
    "# Set limits of x axis\n",
    "ax.set_xlim([45,80])"
   ]
  },
  {
   "cell_type": "code",
   "execution_count": null,
   "id": "3dc0b4bd",
   "metadata": {
    "scrolled": true
   },
   "outputs": [],
   "source": [
    "## OO method breakdown\n",
    "fig, ax = plt.subplots(figsize=(10, 6))\n",
    "\n",
    "# Plot the data\n",
    "scatter = ax.scatter(x=over_50[\"age\"],\n",
    "                    y=over_50[\"chol\"],\n",
    "                    c=over_50[\"target\"])\n",
    "# Customize the plot\n",
    "ax.set(title=\"Heart Disease and Cholesterol Levels\",\n",
    "      xlabel=\"Age\",\n",
    "      ylabel=\"Cholesterol\");\n",
    "\n",
    "# Add legend\n",
    "ax.legend(*scatter.legend_elements(),title=\"Target\");\n",
    "\n",
    "# Add a horizontal line\n",
    "ax.axhline(over_50[\"chol\"].mean(),\n",
    "          linestyle='--');"
   ]
  },
  {
   "cell_type": "code",
   "execution_count": null,
   "id": "bde48e89",
   "metadata": {},
   "outputs": [],
   "source": [
    "# Setup plot\n",
    "fig, (ax0, ax1) = plt.subplots(nrows=2, # 2 rows\n",
    "                               ncols=1, \n",
    "                               sharex=True, \n",
    "                               figsize=(10, 8))\n",
    "\n",
    "# Add data for ax0\n",
    "scatter = ax0.scatter(over_50[\"age\"], \n",
    "                      over_50[\"chol\"], \n",
    "                      c=over_50[\"target\"])\n",
    "# Customize ax0\n",
    "ax0.set(title=\"Heart Disease and Cholesterol Levels\",\n",
    "        ylabel=\"Cholesterol\")\n",
    "ax0.legend(*scatter.legend_elements(), title=\"Target\")\n",
    "\n",
    "# Mean line\n",
    "ax0.axhline(y=over_50[\"chol\"].mean(), \n",
    "            color='b', \n",
    "            linestyle='--', \n",
    "            label=\"Average\")\n",
    "\n",
    "\n",
    "# Add data for ax1\n",
    "scatter = ax1.scatter(over_50[\"age\"], \n",
    "                      over_50[\"thalach\"], \n",
    "                      c=over_50[\"target\"])\n",
    "\n",
    "# Customize ax1\n",
    "ax1.set(title=\"Heart Disease and Max Heart Rate Levels\",\n",
    "        xlabel=\"Age\",\n",
    "        ylabel=\"Max Heart Rate\")\n",
    "ax1.legend(*scatter.legend_elements(), title=\"Target\")\n",
    "\n",
    "# Mean line\n",
    "ax1.axhline(y=over_50[\"thalach\"].mean(), \n",
    "            color='b', \n",
    "            linestyle='--', \n",
    "            label=\"Average\")\n",
    "\n",
    "# Title the figure\n",
    "fig.suptitle('Heart Disease Analysis', fontsize=16, fontweight='bold');"
   ]
  },
  {
   "cell_type": "markdown",
   "id": "82d83082",
   "metadata": {},
   "source": [
    "## Matplotlib customization"
   ]
  },
  {
   "cell_type": "code",
   "execution_count": null,
   "id": "47f6ec08",
   "metadata": {},
   "outputs": [],
   "source": [
    "# Available styles\n",
    "plt.style.available"
   ]
  },
  {
   "cell_type": "code",
   "execution_count": null,
   "id": "b3747c5e",
   "metadata": {},
   "outputs": [],
   "source": [
    "plt.style.use('seaborn-whitegrid')\n",
    "car_sales[\"Price\"].plot();"
   ]
  },
  {
   "cell_type": "code",
   "execution_count": null,
   "id": "4ea75086",
   "metadata": {},
   "outputs": [],
   "source": [
    "plt.style.use('seaborn')\n",
    "car_sales[\"Price\"].plot();"
   ]
  },
  {
   "cell_type": "code",
   "execution_count": null,
   "id": "e55f1c84",
   "metadata": {},
   "outputs": [],
   "source": [
    "plt.style.use('ggplot')\n",
    "car_sales[\"Price\"].plot();"
   ]
  },
  {
   "cell_type": "code",
   "execution_count": null,
   "id": "e97b3217",
   "metadata": {},
   "outputs": [],
   "source": [
    "x = np.random.randn(10, 4)\n",
    "x"
   ]
  },
  {
   "cell_type": "code",
   "execution_count": null,
   "id": "8a42e8f1",
   "metadata": {},
   "outputs": [],
   "source": [
    "df = pd.DataFrame(x, columns=['a', 'b', 'c', 'd'])\n",
    "df"
   ]
  },
  {
   "cell_type": "code",
   "execution_count": null,
   "id": "79e6812e",
   "metadata": {},
   "outputs": [],
   "source": [
    "ax = df.plot(kind='bar')"
   ]
  },
  {
   "cell_type": "code",
   "execution_count": null,
   "id": "bbb698d8",
   "metadata": {},
   "outputs": [],
   "source": [
    "# set() method to customize\n",
    "ax = df.plot(kind='bar')\n",
    "ax.set(title=\"Random Number Bar Graph\", \n",
    "       xlabel=\"Row\", \n",
    "       ylabel=\"Random number\")\n",
    "ax.legend().set_visible(True)"
   ]
  },
  {
   "cell_type": "markdown",
   "id": "3821eeba",
   "metadata": {},
   "source": [
    "## Saving a figure"
   ]
  },
  {
   "cell_type": "code",
   "execution_count": null,
   "id": "492d1aff",
   "metadata": {},
   "outputs": [],
   "source": [
    "fig"
   ]
  },
  {
   "cell_type": "code",
   "execution_count": null,
   "id": "78a4b293",
   "metadata": {},
   "outputs": [],
   "source": [
    "fig.savefig(\"heart-disease-analysis.png\")"
   ]
  }
 ],
 "metadata": {
  "kernelspec": {
   "display_name": "Python 3",
   "language": "python",
   "name": "python3"
  },
  "language_info": {
   "codemirror_mode": {
    "name": "ipython",
    "version": 3
   },
   "file_extension": ".py",
   "mimetype": "text/x-python",
   "name": "python",
   "nbconvert_exporter": "python",
   "pygments_lexer": "ipython3",
   "version": "3.9.4"
  }
 },
 "nbformat": 4,
 "nbformat_minor": 5
}
